{
 "cells": [
  {
   "cell_type": "code",
   "execution_count": 1,
   "id": "5e7611ef",
   "metadata": {},
   "outputs": [],
   "source": [
    "import cvzone\n",
    "\n",
    "#from cvzone.HandTrackingModule import HandDetector\n",
    "import cv2 as cv\n",
    "import numpy as np\n",
    "import serial\n",
    "\n"
   ]
  },
  {
   "cell_type": "code",
   "execution_count": 2,
   "id": "ba4f979d",
   "metadata": {},
   "outputs": [],
   "source": [
    "ser=serial.Serial('COM3',9600,timeout=1)"
   ]
  },
  {
   "cell_type": "code",
   "execution_count": 2,
   "id": "b0a6890c",
   "metadata": {},
   "outputs": [
    {
     "ename": "IndentationError",
     "evalue": "expected an indented block after 'if' statement on line 19 (2678574916.py, line 20)",
     "output_type": "error",
     "traceback": [
      "\u001b[1;36m  Cell \u001b[1;32mIn[2], line 20\u001b[1;36m\u001b[0m\n\u001b[1;33m    ser.write(b'p')\u001b[0m\n\u001b[1;37m    ^\u001b[0m\n\u001b[1;31mIndentationError\u001b[0m\u001b[1;31m:\u001b[0m expected an indented block after 'if' statement on line 19\n"
     ]
    }
   ],
   "source": [
    "cap=cv.VideoCapture(1)\n",
    "cap.set(cv.CAP_PROP_FRAME_HEIGHT,1080)\n",
    "cap.set(cv.CAP_PROP_FRAME_WIDTH,1920)\n",
    "on_working= False\n",
    "\n",
    "while True:\n",
    "    sucess,img=cap.read()\n",
    "    img=cv.flip(img,1)\n",
    "    hsv=cv.cvtColor(img,cv.COLOR_BGR2HSV)\n",
    "    roi=hsv[340:380,620:660]\n",
    "   \n",
    "    average_color_row = np.average(roi, axis=0)\n",
    "    average_color = np.average(average_color_row, axis=0)\n",
    "    hue_value=average_color[0]\n",
    "    color='undefined'\n",
    "    #print(average_color_row)\n",
    "    if hue_value<180and hue_value>170 :\n",
    "        color='red'\n",
    "        if on_working==False:\n",
    "        ser.write(b'p')\n",
    "        on_working=true\n",
    "        \n",
    "    if hue_value<25and hue_value>=0:\n",
    "        color='orange'\n",
    "         if on_working==False:\n",
    "            ser.write(b'p')\n",
    "            on_working=\n",
    "        \n",
    "    if hue_value<33 and hue_value>25:\n",
    "        color=\"yellow\"\n",
    "        \n",
    "    if hue_value<78 and hue_value>33:\n",
    "        color=\"green\"\n",
    "        ser.write(b'q')\n",
    "    if hue_value<131 and hue_value>78:\n",
    "        color=\"blue\"\n",
    "        \n",
    "    if hue_value<133 and hue_value>131:\n",
    "        color=\"voilet\"\n",
    "\n",
    "    cv.putText(img,color,(10,50),0,1,(255,0,0),2)\n",
    "\n",
    "    \n",
    "    cv.rectangle(img,(620,340),(660,380),(255,0,0),3)\n",
    "    cv.imshow(\"helo\",img)\n",
    "\n",
    "    #print(hue_value)\n",
    "    #cv.imshow(\"hello\",roi)\n",
    "    \n",
    "    key=cv.waitKey(1)\n",
    "    if key==ord('q'):\n",
    "        cap.release()\n",
    "        break\n",
    "#ser.close()\n",
    "cv.destroyAllWindows()"
   ]
  },
  {
   "cell_type": "code",
   "execution_count": 13,
   "id": "d044aacc",
   "metadata": {},
   "outputs": [],
   "source": [
    "cap.release()"
   ]
  },
  {
   "cell_type": "code",
   "execution_count": 1,
   "id": "46859be8",
   "metadata": {},
   "outputs": [
    {
     "ename": "NameError",
     "evalue": "name 'ser' is not defined",
     "output_type": "error",
     "traceback": [
      "\u001b[1;31m---------------------------------------------------------------------------\u001b[0m",
      "\u001b[1;31mNameError\u001b[0m                                 Traceback (most recent call last)",
      "Cell \u001b[1;32mIn[1], line 1\u001b[0m\n\u001b[1;32m----> 1\u001b[0m \u001b[43mser\u001b[49m\u001b[38;5;241m.\u001b[39mwrite(\u001b[38;5;124mb\u001b[39m\u001b[38;5;124m'\u001b[39m\u001b[38;5;124mz\u001b[39m\u001b[38;5;124m'\u001b[39m)\n",
      "\u001b[1;31mNameError\u001b[0m: name 'ser' is not defined"
     ]
    }
   ],
   "source": [
    "ser.write(b'z')\n"
   ]
  },
  {
   "cell_type": "code",
   "execution_count": 23,
   "id": "4b130ae5",
   "metadata": {},
   "outputs": [],
   "source": [
    "ser.close()"
   ]
  },
  {
   "cell_type": "code",
   "execution_count": null,
   "id": "18a76c2c",
   "metadata": {},
   "outputs": [],
   "source": []
  }
 ],
 "metadata": {
  "kernelspec": {
   "display_name": "tfodj",
   "language": "python",
   "name": "tfodj"
  },
  "language_info": {
   "codemirror_mode": {
    "name": "ipython",
    "version": 3
   },
   "file_extension": ".py",
   "mimetype": "text/x-python",
   "name": "python",
   "nbconvert_exporter": "python",
   "pygments_lexer": "ipython3",
   "version": "3.10.9"
  }
 },
 "nbformat": 4,
 "nbformat_minor": 5
}
