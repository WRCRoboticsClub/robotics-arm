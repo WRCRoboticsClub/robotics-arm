{
 "cells": [
  {
   "cell_type": "code",
   "execution_count": 1,
   "id": "1bb3a0d8",
   "metadata": {},
   "outputs": [],
   "source": [
    "import torch"
   ]
  },
  {
   "cell_type": "code",
   "execution_count": 2,
   "id": "81a30d67",
   "metadata": {},
   "outputs": [],
   "source": [
    "import numpy as np\n",
    "import cv2 as cv"
   ]
  },
  {
   "cell_type": "code",
   "execution_count": 3,
   "id": "ac30c0d9",
   "metadata": {},
   "outputs": [],
   "source": [
    "import serial\n",
    "ser=serial.Serial('COM3',9600,timeout=1)"
   ]
  },
  {
   "cell_type": "code",
   "execution_count": 19,
   "id": "271583c1",
   "metadata": {},
   "outputs": [],
   "source": [
    "ser=serial.Serial('COM3',9600,timeout=1)"
   ]
  },
  {
   "cell_type": "code",
   "execution_count": 4,
   "id": "7427d9c8",
   "metadata": {},
   "outputs": [],
   "source": [
    "import time"
   ]
  },
  {
   "cell_type": "code",
   "execution_count": 5,
   "id": "b7da254f",
   "metadata": {},
   "outputs": [
    {
     "name": "stderr",
     "output_type": "stream",
     "text": [
      "Downloading: \"https://github.com/ultralytics/yolov5/zipball/master\" to C:\\Users\\acm/.cache\\torch\\hub\\master.zip\n",
      "YOLOv5  2023-1-29 Python-3.10.9 torch-1.13.1+cpu CPU\n",
      "\n",
      "Fusing layers... \n",
      "Model summary: 157 layers, 7015519 parameters, 0 gradients\n",
      "Adding AutoShape... \n"
     ]
    }
   ],
   "source": [
    "model1 = torch.hub.load('ultralytics/yolov5', 'custom', path=\"C:\\\\Users\\\\acm\\\\Desktop\\\\Software\\\\imageprocessing\\\\zroboarm\\\\97precision.pt\", force_reload=True)"
   ]
  },
  {
   "cell_type": "code",
   "execution_count": 8,
   "id": "ceb35acd",
   "metadata": {},
   "outputs": [
    {
     "name": "stdout",
     "output_type": "stream",
     "text": [
      "Collecting seaborn"
     ]
    },
    {
     "name": "stderr",
     "output_type": "stream",
     "text": [
      "WARNING: Ignoring invalid distribution - (c:\\users\\acm\\desktop\\software\\imageprocessing\\tfod\\lib\\site-packages)\n",
      "WARNING: Ignoring invalid distribution -ensorflow-gpu (c:\\users\\acm\\desktop\\software\\imageprocessing\\tfod\\lib\\site-packages)\n",
      "WARNING: Ignoring invalid distribution - (c:\\users\\acm\\desktop\\software\\imageprocessing\\tfod\\lib\\site-packages)\n",
      "WARNING: Ignoring invalid distribution -ensorflow-gpu (c:\\users\\acm\\desktop\\software\\imageprocessing\\tfod\\lib\\site-packages)\n",
      "WARNING: Ignoring invalid distribution - (c:\\users\\acm\\desktop\\software\\imageprocessing\\tfod\\lib\\site-packages)\n",
      "WARNING: Ignoring invalid distribution -ensorflow-gpu (c:\\users\\acm\\desktop\\software\\imageprocessing\\tfod\\lib\\site-packages)\n",
      "WARNING: Ignoring invalid distribution - (c:\\users\\acm\\desktop\\software\\imageprocessing\\tfod\\lib\\site-packages)\n",
      "WARNING: Ignoring invalid distribution -ensorflow-gpu (c:\\users\\acm\\desktop\\software\\imageprocessing\\tfod\\lib\\site-packages)\n",
      "WARNING: Ignoring invalid distribution - (c:\\users\\acm\\desktop\\software\\imageprocessing\\tfod\\lib\\site-packages)\n",
      "WARNING: Ignoring invalid distribution -ensorflow-gpu (c:\\users\\acm\\desktop\\software\\imageprocessing\\tfod\\lib\\site-packages)\n",
      "WARNING: Ignoring invalid distribution - (c:\\users\\acm\\desktop\\software\\imageprocessing\\tfod\\lib\\site-packages)\n",
      "WARNING: Ignoring invalid distribution -ensorflow-gpu (c:\\users\\acm\\desktop\\software\\imageprocessing\\tfod\\lib\\site-packages)\n",
      "WARNING: Ignoring invalid distribution - (c:\\users\\acm\\desktop\\software\\imageprocessing\\tfod\\lib\\site-packages)\n",
      "WARNING: Ignoring invalid distribution -ensorflow-gpu (c:\\users\\acm\\desktop\\software\\imageprocessing\\tfod\\lib\\site-packages)\n"
     ]
    },
    {
     "name": "stdout",
     "output_type": "stream",
     "text": [
      "\n",
      "  Downloading seaborn-0.12.2-py3-none-any.whl (293 kB)\n",
      "     -------------------------------------- 293.3/293.3 kB 1.3 MB/s eta 0:00:00\n",
      "Requirement already satisfied: numpy!=1.24.0,>=1.17 in c:\\users\\acm\\desktop\\software\\imageprocessing\\tfod\\lib\\site-packages (from seaborn) (1.24.1)\n",
      "Requirement already satisfied: matplotlib!=3.6.1,>=3.1 in c:\\users\\acm\\desktop\\software\\imageprocessing\\tfod\\lib\\site-packages (from seaborn) (3.6.2)\n",
      "Requirement already satisfied: pandas>=0.25 in c:\\users\\acm\\desktop\\software\\imageprocessing\\tfod\\lib\\site-packages\\pandas-1.5.2-py3.10-win-amd64.egg (from seaborn) (1.5.2)\n",
      "Requirement already satisfied: packaging>=20.0 in c:\\users\\acm\\desktop\\software\\imageprocessing\\tfod\\lib\\site-packages (from matplotlib!=3.6.1,>=3.1->seaborn) (22.0)\n",
      "Requirement already satisfied: contourpy>=1.0.1 in c:\\users\\acm\\desktop\\software\\imageprocessing\\tfod\\lib\\site-packages (from matplotlib!=3.6.1,>=3.1->seaborn) (1.0.6)\n",
      "Requirement already satisfied: cycler>=0.10 in c:\\users\\acm\\desktop\\software\\imageprocessing\\tfod\\lib\\site-packages (from matplotlib!=3.6.1,>=3.1->seaborn) (0.11.0)\n",
      "Requirement already satisfied: python-dateutil>=2.7 in c:\\users\\acm\\desktop\\software\\imageprocessing\\tfod\\lib\\site-packages (from matplotlib!=3.6.1,>=3.1->seaborn) (2.8.2)\n",
      "Requirement already satisfied: fonttools>=4.22.0 in c:\\users\\acm\\desktop\\software\\imageprocessing\\tfod\\lib\\site-packages (from matplotlib!=3.6.1,>=3.1->seaborn) (4.38.0)\n",
      "Requirement already satisfied: pillow>=6.2.0 in c:\\users\\acm\\desktop\\software\\imageprocessing\\tfod\\lib\\site-packages (from matplotlib!=3.6.1,>=3.1->seaborn) (9.3.0)\n",
      "Requirement already satisfied: kiwisolver>=1.0.1 in c:\\users\\acm\\desktop\\software\\imageprocessing\\tfod\\lib\\site-packages (from matplotlib!=3.6.1,>=3.1->seaborn) (1.4.4)\n",
      "Requirement already satisfied: pyparsing>=2.2.1 in c:\\users\\acm\\desktop\\software\\imageprocessing\\tfod\\lib\\site-packages\\pyparsing-2.4.7-py3.10.egg (from matplotlib!=3.6.1,>=3.1->seaborn) (2.4.7)\n",
      "Requirement already satisfied: pytz>=2020.1 in c:\\users\\acm\\desktop\\software\\imageprocessing\\tfod\\lib\\site-packages (from pandas>=0.25->seaborn) (2022.7)\n",
      "Requirement already satisfied: six>=1.5 in c:\\users\\acm\\desktop\\software\\imageprocessing\\tfod\\lib\\site-packages (from python-dateutil>=2.7->matplotlib!=3.6.1,>=3.1->seaborn) (1.16.0)\n",
      "Installing collected packages: seaborn\n",
      "Successfully installed seaborn-0.12.2\n"
     ]
    }
   ],
   "source": [
    "!pip install seaborn"
   ]
  },
  {
   "cell_type": "code",
   "execution_count": 6,
   "id": "5d7a950b",
   "metadata": {},
   "outputs": [],
   "source": [
    "import pandas as pd"
   ]
  },
  {
   "cell_type": "code",
   "execution_count": 20,
   "id": "50bfc22f",
   "metadata": {},
   "outputs": [
    {
     "name": "stdout",
     "output_type": "stream",
     "text": [
      "full\n",
      "the box is empty\n",
      "empty\n",
      "full\n",
      "the box is empty\n",
      "full\n",
      "the box is empty\n",
      "full\n",
      "the box is empty\n",
      "empty\n",
      "empty\n",
      "empty\n",
      "full\n",
      "the box is empty\n",
      "full\n",
      "the box is empty\n",
      "full\n",
      "the box is empty\n",
      "full\n",
      "the box is empty\n",
      "full\n",
      "the box is empty\n",
      "full\n",
      "the box is empty\n",
      "full\n",
      "the box is empty\n",
      "full\n",
      "the box is empty\n",
      "empty\n",
      "full\n",
      "the box is empty\n",
      "full\n",
      "the box is empty\n",
      "full\n",
      "the box is empty\n",
      "full\n",
      "the box is empty\n",
      "full\n",
      "the box is empty\n",
      "full\n",
      "the box is empty\n",
      "full\n",
      "the box is empty\n",
      "full\n",
      "the box is empty\n",
      "full\n",
      "the box is empty\n",
      "full\n",
      "the box is empty\n",
      "full\n",
      "the box is empty\n"
     ]
    }
   ],
   "source": [
    "cap=cv.VideoCapture(1)\n",
    "cap.set(cv.CAP_PROP_FRAME_HEIGHT,1080)\n",
    "cap.set(cv.CAP_PROP_FRAME_WIDTH,1920)\n",
    "on_working = False\n",
    "while True:\n",
    "    sucess,frame=cap.read()\n",
    "    results=model1(frame)\n",
    "    df=results.pandas().xyxy[0]\n",
    "    s=df[df.columns[6]]\n",
    "    if len(s)!=0:\n",
    "        print(s[0])\n",
    "        if (s[0]=='full'):\n",
    "            print(\"the box is empty\")\n",
    "            try:\n",
    "                if on_working==False :\n",
    "                    ser.write(b'r')\n",
    "                    time.sleep(4)\n",
    "                    \n",
    "                    on_working=True\n",
    "            except:\n",
    "                print('redo serial %connect_info')\n",
    "    if len(s)==0:\n",
    "        on_working=False\n",
    "    \n",
    "       \n",
    "    cv.imshow('yolo',np.squeeze(results.render()))\n",
    "    \n",
    "    key=cv.waitKey(1)\n",
    "    if key== ord('w'):\n",
    "        break\n",
    "cap.release()\n",
    "cv.destroyAllWindows()\n",
    "\n",
    "    "
   ]
  },
  {
   "cell_type": "code",
   "execution_count": null,
   "id": "a610d81a",
   "metadata": {},
   "outputs": [],
   "source": [
    "cap.release()"
   ]
  },
  {
   "cell_type": "code",
   "execution_count": 10,
   "id": "dc5ebbc1",
   "metadata": {},
   "outputs": [
    {
     "data": {
      "text/plain": [
       "1"
      ]
     },
     "execution_count": 10,
     "metadata": {},
     "output_type": "execute_result"
    }
   ],
   "source": [
    " ser.write(b's')\n"
   ]
  },
  {
   "cell_type": "code",
   "execution_count": 18,
   "id": "a4da2122",
   "metadata": {},
   "outputs": [],
   "source": [
    "ser.close()"
   ]
  },
  {
   "cell_type": "code",
   "execution_count": null,
   "id": "44a94f07",
   "metadata": {},
   "outputs": [],
   "source": []
  },
  {
   "cell_type": "code",
   "execution_count": null,
   "id": "6d406d3f",
   "metadata": {},
   "outputs": [],
   "source": []
  }
 ],
 "metadata": {
  "kernelspec": {
   "display_name": "tfodj",
   "language": "python",
   "name": "tfodj"
  },
  "language_info": {
   "codemirror_mode": {
    "name": "ipython",
    "version": 3
   },
   "file_extension": ".py",
   "mimetype": "text/x-python",
   "name": "python",
   "nbconvert_exporter": "python",
   "pygments_lexer": "ipython3",
   "version": "3.10.9"
  }
 },
 "nbformat": 4,
 "nbformat_minor": 5
}
