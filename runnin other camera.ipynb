{
 "cells": [
  {
   "cell_type": "code",
   "execution_count": 1,
   "id": "28273ad9",
   "metadata": {},
   "outputs": [],
   "source": [
    "import cvzone\n",
    "\n",
    "from cvzone.HandTrackingModule import HandDetector\n",
    "import cv2 as cv\n",
    "import numpy as np\n"
   ]
  },
  {
   "cell_type": "code",
   "execution_count": 3,
   "id": "7bd338ef",
   "metadata": {},
   "outputs": [],
   "source": [
    "\n",
    "cap=cv.VideoCapture(1)\n",
    "cap.set(cv.CAP_PROP_FRAME_HEIGHT,1080)\n",
    "cap.set(cv.CAP_PROP_FRAME_WIDTH,1920)\n",
    "\n",
    "\n",
    "while True:\n",
    "    sucess,img=cap.read()\n",
    "    img=cv.flip(img,1)\n",
    "    hsv_img=cv.cvtColor(img,cv.COLOR_BGR2HSV)\n",
    "    \n",
    "    cv.imshow(\"hsv\",hsv_img)\n",
    "    key=cv.waitKey(1)\n",
    "    if key==ord('q'):\n",
    "        cap.release()\n",
    "        break\n",
    "cv.destroyAllWindows()"
   ]
  },
  {
   "cell_type": "code",
   "execution_count": null,
   "id": "cf8d4d37",
   "metadata": {},
   "outputs": [],
   "source": [
    "cap.release()"
   ]
  },
  {
   "cell_type": "code",
   "execution_count": 4,
   "id": "3e70c017",
   "metadata": {},
   "outputs": [],
   "source": [
    "cv.destroyAllWindows()"
   ]
  },
  {
   "cell_type": "code",
   "execution_count": null,
   "id": "2f2e8dfa",
   "metadata": {},
   "outputs": [],
   "source": [
    "[255  91  38] // pure blue"
   ]
  }
 ],
 "metadata": {
  "kernelspec": {
   "display_name": "tfodj",
   "language": "python",
   "name": "tfodj"
  },
  "language_info": {
   "codemirror_mode": {
    "name": "ipython",
    "version": 3
   },
   "file_extension": ".py",
   "mimetype": "text/x-python",
   "name": "python",
   "nbconvert_exporter": "python",
   "pygments_lexer": "ipython3",
   "version": "3.10.9"
  }
 },
 "nbformat": 4,
 "nbformat_minor": 5
}
