{
 "cells": [
  {
   "cell_type": "code",
   "execution_count": 3,
   "id": "1ed19995",
   "metadata": {},
   "outputs": [],
   "source": [
    "import cv2 \n",
    "import numpy as np\n"
   ]
  },
  {
   "cell_type": "code",
   "execution_count": 2,
   "id": "4c19b77d",
   "metadata": {},
   "outputs": [],
   "source": [
    "cap=cv2.VideoCapture(0)\n",
    "lower=np.array([15,150,20])\n",
    "upper=np.array([35,255,255])\n",
    "while True:\n",
    "    _,img = cap.read()\n",
    "    hsvimg=cv2.cvtColor(img,cv2.COLOR_BGR2HSV)\n",
    "    mask=cv2.inRange(img,lower,upper)\n",
    "    cv2.imshow('mask',mask)\n",
    "    key=cv2.waitKey(1)\n",
    "    if key==ord('q'):\n",
    "        cap.release()\n",
    "        break\n",
    "cv2.destroyAllWindows()\n",
    "    "
   ]
  },
  {
   "cell_type": "code",
   "execution_count": 16,
   "id": "81c95545",
   "metadata": {},
   "outputs": [],
   "source": [
    "cap.release()"
   ]
  },
  {
   "cell_type": "code",
   "execution_count": 2,
   "id": "938ffda1",
   "metadata": {},
   "outputs": [],
   "source": [
    "import cv2\n",
    "import numpy as np\n",
    "\n",
    "# Specifying upper and lower ranges of color to detect in hsv format\n",
    "lower = np.array([15, 150, 20])\n",
    "upper = np.array([35, 255, 255]) # (These ranges will detect Yellow)\n",
    "lower_blue= np.array([241, 150, 20])\n",
    "upper_blue= np.array([300, 255, 255])#blue\n",
    "# Capturing webcam footage\n",
    "webcam_video = cv2.VideoCapture(0)\n",
    "\n",
    "while True:\n",
    "    success, video = webcam_video.read() # Reading webcam footage\n",
    "\n",
    "    img = cv2.cvtColor(video, cv2.COLOR_BGR2HSV) # Converting BGR image to HSV format\n",
    "\n",
    "    mask = cv2.inRange(img, lower, upper) # Masking the image to find our color\n",
    "    mask2=cv2.inRange(img, lower_blue, upper_blue)\n",
    "    mask_contours, hierarchy = cv2.findContours(mask2, cv2.RETR_EXTERNAL, cv2.CHAIN_APPROX_SIMPLE) # Finding contours in mask image\n",
    "\n",
    "    # Finding position of all contours\n",
    "    if len(mask_contours) != 0:\n",
    "        for mask_contour in mask_contours:\n",
    "            if cv2.contourArea(mask_contour) > 500:\n",
    "                x, y, w, h = cv2.boundingRect(mask_contour)\n",
    "                cv2.rectangle(video, (x, y), (x + w, y + h), (0, 0, 255), 3) #drawing rectangle\n",
    "\n",
    "    cv2.imshow(\"mask image\", mask2) # Displaying mask image\n",
    "\n",
    "    cv2.imshow(\"window\", video) # Displaying webcam image\n",
    "\n",
    "    key=cv2.waitKey(1)\n",
    "    if key==ord('q'):\n",
    "        webcam_video.release()\n",
    "        break\n",
    "cv2.destroyAllWindows()"
   ]
  },
  {
   "cell_type": "code",
   "execution_count": 2,
   "id": "fbad9f29",
   "metadata": {},
   "outputs": [
    {
     "ename": "NameError",
     "evalue": "name 'cap' is not defined",
     "output_type": "error",
     "traceback": [
      "\u001b[1;31m---------------------------------------------------------------------------\u001b[0m",
      "\u001b[1;31mNameError\u001b[0m                                 Traceback (most recent call last)",
      "Cell \u001b[1;32mIn[2], line 1\u001b[0m\n\u001b[1;32m----> 1\u001b[0m \u001b[43mcap\u001b[49m\u001b[38;5;241m.\u001b[39mrelease()\n",
      "\u001b[1;31mNameError\u001b[0m: name 'cap' is not defined"
     ]
    }
   ],
   "source": [
    "cap.release()"
   ]
  },
  {
   "cell_type": "code",
   "execution_count": null,
   "id": "592fa95f",
   "metadata": {},
   "outputs": [],
   "source": []
  }
 ],
 "metadata": {
  "kernelspec": {
   "display_name": "tfodj",
   "language": "python",
   "name": "tfodj"
  },
  "language_info": {
   "codemirror_mode": {
    "name": "ipython",
    "version": 3
   },
   "file_extension": ".py",
   "mimetype": "text/x-python",
   "name": "python",
   "nbconvert_exporter": "python",
   "pygments_lexer": "ipython3",
   "version": "3.10.9"
  }
 },
 "nbformat": 4,
 "nbformat_minor": 5
}
