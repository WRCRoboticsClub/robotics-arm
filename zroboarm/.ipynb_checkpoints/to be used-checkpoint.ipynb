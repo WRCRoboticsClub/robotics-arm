{
 "cells": [
  {
   "cell_type": "code",
   "execution_count": 1,
   "id": "4b76def0",
   "metadata": {},
   "outputs": [],
   "source": [
    "import cvzone\n",
    "\n",
    "from cvzone.HandTrackingModule import HandDetector\n",
    "import cv2 as cv\n",
    "import numpy as np\n"
   ]
  },
  {
   "cell_type": "code",
   "execution_count": 15,
   "id": "d56ce319",
   "metadata": {},
   "outputs": [
    {
     "name": "stdout",
     "output_type": "stream",
     "text": [
      "image not read\n"
     ]
    },
    {
     "ename": "error",
     "evalue": "OpenCV(4.7.0) D:\\a\\opencv-python\\opencv-python\\opencv\\modules\\imgproc\\src\\color.cpp:182: error: (-215:Assertion failed) !_src.empty() in function 'cv::cvtColor'\n",
     "output_type": "error",
     "traceback": [
      "\u001b[1;31m---------------------------------------------------------------------------\u001b[0m",
      "\u001b[1;31merror\u001b[0m                                     Traceback (most recent call last)",
      "Cell \u001b[1;32mIn[15], line 9\u001b[0m\n\u001b[0;32m      7\u001b[0m     \u001b[38;5;28mprint\u001b[39m(\u001b[38;5;124m\"\u001b[39m\u001b[38;5;124mimage not read\u001b[39m\u001b[38;5;124m\"\u001b[39m)\n\u001b[0;32m      8\u001b[0m img\u001b[38;5;241m=\u001b[39mcv\u001b[38;5;241m.\u001b[39mflip(img,\u001b[38;5;241m1\u001b[39m)\n\u001b[1;32m----> 9\u001b[0m hsv\u001b[38;5;241m=\u001b[39m\u001b[43mcv\u001b[49m\u001b[38;5;241;43m.\u001b[39;49m\u001b[43mcvtColor\u001b[49m\u001b[43m(\u001b[49m\u001b[43mimg\u001b[49m\u001b[43m,\u001b[49m\u001b[43mcv\u001b[49m\u001b[38;5;241;43m.\u001b[39;49m\u001b[43mCOLOR_BGR2HSV\u001b[49m\u001b[43m)\u001b[49m\n\u001b[0;32m     10\u001b[0m roi\u001b[38;5;241m=\u001b[39mhsv[\u001b[38;5;241m340\u001b[39m:\u001b[38;5;241m380\u001b[39m,\u001b[38;5;241m620\u001b[39m:\u001b[38;5;241m660\u001b[39m]\n\u001b[0;32m     12\u001b[0m average_color_row \u001b[38;5;241m=\u001b[39m np\u001b[38;5;241m.\u001b[39maverage(roi, axis\u001b[38;5;241m=\u001b[39m\u001b[38;5;241m0\u001b[39m)\n",
      "\u001b[1;31merror\u001b[0m: OpenCV(4.7.0) D:\\a\\opencv-python\\opencv-python\\opencv\\modules\\imgproc\\src\\color.cpp:182: error: (-215:Assertion failed) !_src.empty() in function 'cv::cvtColor'\n"
     ]
    }
   ],
   "source": [
    "cap=cv.VideoCapture(1)\n",
    "cap.set(cv.CAP_PROP_FRAME_HEIGHT,1080)\n",
    "cap.set(cv.CAP_PROP_FRAME_WIDTH,1920)\n",
    "while True:\n",
    "    sucess,img=cap.read()\n",
    "    if not sucess:\n",
    "        print(\"image not read\")\n",
    "    img=cv.flip(img,1)\n",
    "    hsv=cv.cvtColor(img,cv.COLOR_BGR2HSV)\n",
    "    roi=hsv[340:380,620:660]\n",
    "   \n",
    "    average_color_row = np.average(roi, axis=0)\n",
    "    average_color = np.average(average_color_row, axis=0)\n",
    "    hue_value=average_color[0]\n",
    "    color='undefined'\n",
    "    #print(average_color_row)\n",
    "    if hue_value<180and hue_value>170 :\n",
    "        color='red'\n",
    "    if hue_value<25and hue_value>=0:\n",
    "        color='orange'\n",
    "    if hue_value<33 and hue_value>25:\n",
    "        color=\"yellow\"\n",
    "    if hue_value<78 and hue_value>33:\n",
    "        color=\"green\"\n",
    "    if hue_value<131 and hue_value>78:\n",
    "        color=\"blue\"\n",
    "    if hue_value<133 and hue_value>131:\n",
    "        color=\"voilet\"\n",
    "\n",
    "    cv.putText(img,color,(10,50),0,1,(255,0,0),2)\n",
    "\n",
    "    \n",
    "    cv.rectangle(img,(620,340),(660,380),(255,0,0),3)\n",
    "    cv.imshow(\"helo\",img)\n",
    "\n",
    "    print(hue_value)\n",
    "    #cv.imshow(\"hello\",roi)\n",
    "    \n",
    "    key=cv.waitKey(1)\n",
    "    if key==ord('q'):\n",
    "        cap.release()\n",
    "        break\n",
    "cv.destroyAllWindows()"
   ]
  },
  {
   "cell_type": "code",
   "execution_count": 3,
   "id": "a1d16fc4",
   "metadata": {},
   "outputs": [],
   "source": [
    "cap.release()"
   ]
  },
  {
   "cell_type": "code",
   "execution_count": null,
   "id": "b32ab72e",
   "metadata": {},
   "outputs": [],
   "source": []
  }
 ],
 "metadata": {
  "kernelspec": {
   "display_name": "tfodj",
   "language": "python",
   "name": "tfodj"
  },
  "language_info": {
   "codemirror_mode": {
    "name": "ipython",
    "version": 3
   },
   "file_extension": ".py",
   "mimetype": "text/x-python",
   "name": "python",
   "nbconvert_exporter": "python",
   "pygments_lexer": "ipython3",
   "version": "3.10.9"
  }
 },
 "nbformat": 4,
 "nbformat_minor": 5
}
