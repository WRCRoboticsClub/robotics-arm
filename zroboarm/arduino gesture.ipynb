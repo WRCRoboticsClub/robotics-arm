{
 "cells": [
  {
   "cell_type": "code",
   "execution_count": 1,
   "id": "9864eeeb",
   "metadata": {},
   "outputs": [],
   "source": [
    "import cvzone\n",
    "from cvzone.HandTrackingModule import HandDetector\n",
    "import cv2 as cv\n",
    "import math\n",
    "import serial\n",
    "import time"
   ]
  },
  {
   "cell_type": "code",
   "execution_count": 2,
   "id": "03beb9e3",
   "metadata": {},
   "outputs": [],
   "source": [
    "ser=serial.Serial('COM3',9600,timeout=1)"
   ]
  },
  {
   "cell_type": "code",
   "execution_count": null,
   "id": "c0097667",
   "metadata": {},
   "outputs": [],
   "source": [
    "cap=cv.VideoCapture(0)\n",
    "detector=HandDetector(detectionCon=0.8,maxHands=1)\n",
    "\n",
    "on_normal=True\n",
    "\n",
    "while True:\n",
    "    sucess,img=cap.read()\n",
    "    img=cv.flip(img,1)\n",
    "    hands,img = detector.findHands(img)\n",
    "    if hands:\n",
    "        hands1=hands[0]\n",
    "        lmlist1=hands1['lmList']\n",
    "        bbox1=hands1[\"bbox\"]\n",
    "        \n",
    "        if lmlist1:\n",
    "            fingers=detector.fingersUp(hands1)\n",
    "            #print(fingers)\n",
    "            #fingers detection\n",
    "            try:\n",
    "                if fingers==[0,1,1,0,0] or fingers==  [1,1,1,0,0]:\n",
    "                    #print('gripper close',fingers)\n",
    "                    ser.write(b'f')\n",
    "                if fingers==[1,1,1,1,0] or fingers== [0,1,1,1,0]:\n",
    "                   # print('gripper open',fingers)\n",
    "                    ser.write(b'e')\n",
    "                time.sleep(0.03)\n",
    "            except:\n",
    "                print(\"error in thumb\")\n",
    "        \n",
    "            if fingers[4]==1:\n",
    "                \n",
    "                xt,yt=lmlist1[4][0],lmlist1[4][1]\n",
    "                xi,yi=lmlist1[8][0],lmlist1[8][1]\n",
    "                xib,yib=lmlist1[5][0],lmlist1[5][1]\n",
    "                xpb,ypb=lmlist1[17][0],lmlist1[17][1]\n",
    "                x0,y0=lmlist1[0][0],lmlist1[0][1]\n",
    "                \n",
    "                #print(xt,yt)\n",
    "                #print(lmlist1)\n",
    "                cv.circle(img,(xt,yt),5,(255,0,255),cv.FILLED)\n",
    "                cv.circle(img,(xi,yi),5,(255,0,255),cv.FILLED)\n",
    "                cv.circle(img,(xib,yib),5,(255,0,255),cv.FILLED)\n",
    "                cv.circle(img,(xpb,ypb),5,(255,0,255),cv.FILLED)\n",
    "                cv.circle(img,(x0,y0),5,(255,0,255),cv.FILLED)\n",
    "                cv.line(img,(x0,y0),(xi,yi),(255,0,255),2)\n",
    "                \n",
    "                #finding length\n",
    "                length_thumb=math.hypot(xt-x0,yt-y0)\n",
    "                length_roatate=math.hypot(xib-xpb,yib-ypb)\n",
    "                length_index=math.hypot(xi-x0,yi-y0)\n",
    "                #print(length_roatate)\n",
    "                try:\n",
    "                    if length_thumb <70:\n",
    "                       # print(\"decrease height\",length_thumb)\n",
    "                        cv.circle(img,(xt,yt),5,(255,0,0),cv.FILLED)\n",
    "                        ser.write(b'g')\n",
    "                    if length_thumb > 105:\n",
    "                       # print('increase height',length_thumb)\n",
    "                        cv.circle(img,(xt,yt),5,(255,0,0),cv.FILLED)\n",
    "                        ser.write(b'h')\n",
    "                    if length_index<80:\n",
    "                       # print(\"contrcat\")\n",
    "                        cv.circle(img,(xi,yi),5,(255,0,0),cv.FILLED)\n",
    "                        ser.write(b'd')\n",
    "                    if length_index>150:\n",
    "                       # print('expand')\n",
    "                        cv.circle(img,(xi,yi),5,(255,0,0),cv.FILLED)\n",
    "                        ser.write(b'c')\n",
    "                    if length_roatate<30:\n",
    "                        ser.write(b'j')\n",
    "                        on_normal=False\n",
    "                        cv.circle(img,(xpb,ypb),5,(255,0,0),cv.FILLED)\n",
    "                    if on_normal is False: \n",
    "                        if length_roatate>60:\n",
    "                            on_normal=True\n",
    "                            ser.write(b'k')\n",
    "                            cv.circle(img,(xpb,ypb),5,(255,0,0),cv.FILLED)\n",
    "                        \n",
    "                except:\n",
    "                    print('error occured')\n",
    "\n",
    "            \n",
    "    cv.imshow(\"hand detection\",img)\n",
    "    key=cv.waitKey(1)\n",
    "    if key==ord('q'):\n",
    "        cap.release()\n",
    "        break\n",
    "cv.destroyAllWindows()\n"
   ]
  },
  {
   "cell_type": "code",
   "execution_count": 4,
   "id": "e33a5598",
   "metadata": {},
   "outputs": [],
   "source": [
    "cap.release()\n",
    "cv.destroyAllWindows()"
   ]
  },
  {
   "cell_type": "code",
   "execution_count": 5,
   "id": "ce87ec96",
   "metadata": {},
   "outputs": [],
   "source": [
    "ser.close()"
   ]
  },
  {
   "cell_type": "code",
   "execution_count": 1,
   "id": "2df2d30e",
   "metadata": {},
   "outputs": [
    {
     "ename": "NameError",
     "evalue": "name 'ser' is not defined",
     "output_type": "error",
     "traceback": [
      "\u001b[1;31m---------------------------------------------------------------------------\u001b[0m",
      "\u001b[1;31mNameError\u001b[0m                                 Traceback (most recent call last)",
      "Cell \u001b[1;32mIn[1], line 1\u001b[0m\n\u001b[1;32m----> 1\u001b[0m \u001b[43mser\u001b[49m\u001b[38;5;241m.\u001b[39mwrite(\u001b[38;5;124mb\u001b[39m\u001b[38;5;124m'\u001b[39m\u001b[38;5;124mp\u001b[39m\u001b[38;5;124m'\u001b[39m)\n",
      "\u001b[1;31mNameError\u001b[0m: name 'ser' is not defined"
     ]
    }
   ],
   "source": [
    "ser.write(b'p')\n"
   ]
  },
  {
   "cell_type": "code",
   "execution_count": null,
   "id": "0f014243",
   "metadata": {},
   "outputs": [],
   "source": [
    "ser.write(b'z')\n",
    "\n"
   ]
  },
  {
   "cell_type": "code",
   "execution_count": null,
   "id": "410333a3",
   "metadata": {},
   "outputs": [],
   "source": [
    "ser.write(b'b')"
   ]
  },
  {
   "cell_type": "code",
   "execution_count": null,
   "id": "d73605cb",
   "metadata": {},
   "outputs": [],
   "source": [
    "ser.write(b'e')"
   ]
  },
  {
   "cell_type": "code",
   "execution_count": null,
   "id": "82cfa388",
   "metadata": {},
   "outputs": [],
   "source": []
  },
  {
   "cell_type": "code",
   "execution_count": null,
   "id": "e5101595",
   "metadata": {},
   "outputs": [],
   "source": []
  },
  {
   "cell_type": "code",
   "execution_count": null,
   "id": "b1206940",
   "metadata": {},
   "outputs": [],
   "source": []
  }
 ],
 "metadata": {
  "kernelspec": {
   "display_name": "tfodj",
   "language": "python",
   "name": "tfodj"
  },
  "language_info": {
   "codemirror_mode": {
    "name": "ipython",
    "version": 3
   },
   "file_extension": ".py",
   "mimetype": "text/x-python",
   "name": "python",
   "nbconvert_exporter": "python",
   "pygments_lexer": "ipython3",
   "version": "3.10.9"
  }
 },
 "nbformat": 4,
 "nbformat_minor": 5
}
