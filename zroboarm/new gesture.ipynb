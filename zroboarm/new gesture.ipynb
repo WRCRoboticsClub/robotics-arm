{
 "cells": [
  {
   "cell_type": "code",
   "execution_count": 10,
   "id": "ba8ed42c",
   "metadata": {},
   "outputs": [],
   "source": [
    "import cvzone\n",
    "from cvzone.HandTrackingModule import HandDetector\n",
    "import cv2 as cv\n",
    "import math\n",
    "import serial\n",
    "import time"
   ]
  },
  {
   "cell_type": "code",
   "execution_count": 11,
   "id": "ae710e90",
   "metadata": {},
   "outputs": [],
   "source": [
    "ser=serial.Serial('COM3',9600,timeout=1)"
   ]
  },
  {
   "cell_type": "code",
   "execution_count": 13,
   "id": "506aa985",
   "metadata": {},
   "outputs": [
    {
     "ename": "error",
     "evalue": "OpenCV(4.7.0) D:\\a\\opencv-python\\opencv-python\\opencv\\modules\\imgproc\\src\\color.cpp:182: error: (-215:Assertion failed) !_src.empty() in function 'cv::cvtColor'\n",
     "output_type": "error",
     "traceback": [
      "\u001b[1;31m---------------------------------------------------------------------------\u001b[0m",
      "\u001b[1;31merror\u001b[0m                                     Traceback (most recent call last)",
      "Cell \u001b[1;32mIn[13], line 8\u001b[0m\n\u001b[0;32m      6\u001b[0m sucess,img\u001b[38;5;241m=\u001b[39mcap\u001b[38;5;241m.\u001b[39mread()\n\u001b[0;32m      7\u001b[0m img\u001b[38;5;241m=\u001b[39mcv\u001b[38;5;241m.\u001b[39mflip(img,\u001b[38;5;241m1\u001b[39m)\n\u001b[1;32m----> 8\u001b[0m hands,img \u001b[38;5;241m=\u001b[39m \u001b[43mdetector\u001b[49m\u001b[38;5;241;43m.\u001b[39;49m\u001b[43mfindHands\u001b[49m\u001b[43m(\u001b[49m\u001b[43mimg\u001b[49m\u001b[43m)\u001b[49m\n\u001b[0;32m      9\u001b[0m \u001b[38;5;28;01mif\u001b[39;00m hands:\n\u001b[0;32m     10\u001b[0m     hands1\u001b[38;5;241m=\u001b[39mhands[\u001b[38;5;241m0\u001b[39m]\n",
      "File \u001b[1;32m~\\Desktop\\Software\\imageprocessing\\tfod\\lib\\site-packages\\cvzone\\HandTrackingModule.py:48\u001b[0m, in \u001b[0;36mHandDetector.findHands\u001b[1;34m(self, img, draw, flipType)\u001b[0m\n\u001b[0;32m     41\u001b[0m \u001b[38;5;28;01mdef\u001b[39;00m \u001b[38;5;21mfindHands\u001b[39m(\u001b[38;5;28mself\u001b[39m, img, draw\u001b[38;5;241m=\u001b[39m\u001b[38;5;28;01mTrue\u001b[39;00m, flipType\u001b[38;5;241m=\u001b[39m\u001b[38;5;28;01mTrue\u001b[39;00m):\n\u001b[0;32m     42\u001b[0m     \u001b[38;5;124;03m\"\"\"\u001b[39;00m\n\u001b[0;32m     43\u001b[0m \u001b[38;5;124;03m    Finds hands in a BGR image.\u001b[39;00m\n\u001b[0;32m     44\u001b[0m \u001b[38;5;124;03m    :param img: Image to find the hands in.\u001b[39;00m\n\u001b[0;32m     45\u001b[0m \u001b[38;5;124;03m    :param draw: Flag to draw the output on the image.\u001b[39;00m\n\u001b[0;32m     46\u001b[0m \u001b[38;5;124;03m    :return: Image with or without drawings\u001b[39;00m\n\u001b[0;32m     47\u001b[0m \u001b[38;5;124;03m    \"\"\"\u001b[39;00m\n\u001b[1;32m---> 48\u001b[0m     imgRGB \u001b[38;5;241m=\u001b[39m \u001b[43mcv2\u001b[49m\u001b[38;5;241;43m.\u001b[39;49m\u001b[43mcvtColor\u001b[49m\u001b[43m(\u001b[49m\u001b[43mimg\u001b[49m\u001b[43m,\u001b[49m\u001b[43m \u001b[49m\u001b[43mcv2\u001b[49m\u001b[38;5;241;43m.\u001b[39;49m\u001b[43mCOLOR_BGR2RGB\u001b[49m\u001b[43m)\u001b[49m\n\u001b[0;32m     49\u001b[0m     \u001b[38;5;28mself\u001b[39m\u001b[38;5;241m.\u001b[39mresults \u001b[38;5;241m=\u001b[39m \u001b[38;5;28mself\u001b[39m\u001b[38;5;241m.\u001b[39mhands\u001b[38;5;241m.\u001b[39mprocess(imgRGB)\n\u001b[0;32m     50\u001b[0m     allHands \u001b[38;5;241m=\u001b[39m []\n",
      "\u001b[1;31merror\u001b[0m: OpenCV(4.7.0) D:\\a\\opencv-python\\opencv-python\\opencv\\modules\\imgproc\\src\\color.cpp:182: error: (-215:Assertion failed) !_src.empty() in function 'cv::cvtColor'\n"
     ]
    }
   ],
   "source": [
    "cap=cv.VideoCapture(0)\n",
    "detector=HandDetector(detectionCon=0.8,maxHands=1)\n",
    "on_normal=True\n",
    "\n",
    "while True:\n",
    "    sucess,img=cap.read()\n",
    "    img=cv.flip(img,1)\n",
    "    hands,img = detector.findHands(img)\n",
    "    if hands:\n",
    "        hands1=hands[0]\n",
    "        lmlist1=hands1['lmList']\n",
    "        bbox1=hands1[\"bbox\"]\n",
    "        \n",
    "        if lmlist1:\n",
    "            fingers=detector.fingersUp(hands1)\n",
    "            #print(fingers)\n",
    "            #fingers detection\n",
    "            try:\n",
    "                if fingers==[0,1,1,0,0] or fingers==  [1,1,1,0,0]:\n",
    "                    #print('gripper close',fingers)\n",
    "                    ser.write(b'f')\n",
    "                if fingers==[1,1,1,1,0] or fingers== [0,1,1,1,0]:\n",
    "                   # print('gripper open',fingers)\n",
    "                    ser.write(b'e')\n",
    "                time.sleep(0.03)\n",
    "            except:\n",
    "                print(\"error in thumb\")\n",
    "        \n",
    "            if fingers[4]==1:\n",
    "                \n",
    "                xt,yt=lmlist1[4][0],lmlist1[4][1]\n",
    "                xi,yi=lmlist1[8][0],lmlist1[8][1]\n",
    "                xib,yib=lmlist1[5][0],lmlist1[5][1]\n",
    "                xpb,ypb=lmlist1[17][0],lmlist1[17][1]\n",
    "                x0,y0=lmlist1[0][0],lmlist1[0][1]\n",
    "                \n",
    "                #print(xt,yt)\n",
    "                #print(lmlist1)\n",
    "                cv.circle(img,(xt,yt),5,(255,0,255),cv.FILLED)\n",
    "                cv.circle(img,(xi,yi),5,(255,0,255),cv.FILLED)\n",
    "                cv.circle(img,(xib,yib),5,(255,0,255),cv.FILLED)\n",
    "                cv.circle(img,(xpb,ypb),5,(255,0,255),cv.FILLED)\n",
    "                cv.circle(img,(x0,y0),5,(255,0,255),cv.FILLED)\n",
    "                cv.line(img,(x0,y0),(xi,yi),(255,0,255),2)\n",
    "                \n",
    "                #finding length\n",
    "                length_thumb=math.hypot(xt-x0,yt-y0)\n",
    "                length_roatate=math.hypot(xib-xpb,yib-ypb)\n",
    "                length_index=math.hypot(xi-x0,yi-y0)\n",
    "                #print(length_roatate)\n",
    "                try:\n",
    "                    if length_thumb <70:\n",
    "                       # print(\"decrease height\",length_thumb)\n",
    "                        cv.circle(img,(xt,yt),5,(255,0,0),cv.FILLED)\n",
    "                        ser.write(b'g')\n",
    "                    if length_thumb > 105:\n",
    "                       # print('increase height',length_thumb)\n",
    "                        cv.circle(img,(xt,yt),5,(255,0,0),cv.FILLED)\n",
    "                        ser.write(b'h')\n",
    "                    if length_index<80:\n",
    "                       # print(\"contrcat\")\n",
    "                        cv.circle(img,(xi,yi),5,(255,0,0),cv.FILLED)\n",
    "                        ser.write(b'd')\n",
    "                    if length_index>150:\n",
    "                       # print('expand')\n",
    "                        cv.circle(img,(xi,yi),5,(255,0,0),cv.FILLED)\n",
    "                        ser.write(b'c')\n",
    "                    if length_roatate<30:\n",
    "                        ser.write(b'j')\n",
    "                        on_normal=False\n",
    "                        cv.circle(img,(xpb,ypb),5,(255,0,0),cv.FILLED)\n",
    "                    if on_normal is False: \n",
    "                        if length_roatate>60:\n",
    "                            on_normal=True\n",
    "                            ser.write(b'k')\n",
    "                            cv.circle(img,(xpb,ypb),5,(255,0,0),cv.FILLED)\n",
    "                        \n",
    "                except:\n",
    "                    print('error occured')\n",
    "\n",
    "            \n",
    "    cv.imshow(\"hand detection\",img)\n",
    "    key=cv.waitKey(1)\n",
    "    if key==ord('q'):\n",
    "        cap.release()\n",
    "        break\n",
    "cv.destroyAllWindows()\n"
   ]
  },
  {
   "cell_type": "code",
   "execution_count": null,
   "id": "859f94f9",
   "metadata": {},
   "outputs": [],
   "source": [
    "cap"
   ]
  }
 ],
 "metadata": {
  "kernelspec": {
   "display_name": "tfodj",
   "language": "python",
   "name": "tfodj"
  },
  "language_info": {
   "codemirror_mode": {
    "name": "ipython",
    "version": 3
   },
   "file_extension": ".py",
   "mimetype": "text/x-python",
   "name": "python",
   "nbconvert_exporter": "python",
   "pygments_lexer": "ipython3",
   "version": "3.10.9"
  }
 },
 "nbformat": 4,
 "nbformat_minor": 5
}
