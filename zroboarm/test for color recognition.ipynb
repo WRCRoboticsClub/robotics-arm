{
 "cells": [
  {
   "cell_type": "code",
   "execution_count": 2,
   "id": "3497cdd1",
   "metadata": {},
   "outputs": [],
   "source": [
    "import cvzone\n",
    "\n",
    "#from cvzone.HandTrackingModule import HandDetector\n",
    "import cv2 as cv\n",
    "import numpy as np\n",
    "import serial\n",
    "\n"
   ]
  },
  {
   "cell_type": "code",
   "execution_count": 3,
   "id": "9db84643",
   "metadata": {},
   "outputs": [],
   "source": [
    "cap=cv.VideoCapture(1)\n",
    "cap.set(cv.CAP_PROP_FRAME_HEIGHT,1080)\n",
    "cap.set(cv.CAP_PROP_FRAME_WIDTH,1920)\n",
    "#on working= False\n",
    "\n",
    "while True:\n",
    "    sucess,img=cap.read()\n",
    "    img=cv.flip(img,1)\n",
    "    hsv=cv.cvtColor(img,cv.COLOR_BGR2HSV)\n",
    "    roi=hsv[340:380,620:660]\n",
    "   \n",
    "    average_color_row = np.average(roi, axis=0)\n",
    "    average_color = np.average(average_color_row, axis=0)\n",
    "    hue_value=average_color[0]\n",
    "    color='undefined'\n",
    "    #print(average_color_row)\n",
    "    if hue_value<180and hue_value>170 :\n",
    "        color='red'\n",
    "        \n",
    "        #ser.write(b'p')\n",
    "        \n",
    "    if hue_value<25and hue_value>=0:\n",
    "        color='orange'\n",
    "        #ser.write(b'p')\n",
    "    if hue_value<33 and hue_value>25:\n",
    "        color=\"yellow\"\n",
    "        \n",
    "    if hue_value<78 and hue_value>33:\n",
    "        color=\"green\"\n",
    "        #ser.write(b'q')\n",
    "    if hue_value<131 and hue_value>78:\n",
    "        color=\"blue\"\n",
    "        \n",
    "    if hue_value<133 and hue_value>131:\n",
    "        color=\"voilet\"\n",
    "\n",
    "    cv.putText(img,color,(10,50),0,1,(255,0,0),2)\n",
    "\n",
    "    \n",
    "    cv.rectangle(img,(620,340),(660,380),(255,0,0),3)\n",
    "    cv.imshow(\"helo\",img)\n",
    "\n",
    "    #print(hue_value)\n",
    "    #cv.imshow(\"hello\",roi)\n",
    "    \n",
    "    key=cv.waitKey(1)\n",
    "    if key==ord('q'):\n",
    "        cap.release()\n",
    "        break\n",
    "#ser.close()\n",
    "cv.destroyAllWindows()"
   ]
  },
  {
   "cell_type": "code",
   "execution_count": null,
   "id": "b1e1e905",
   "metadata": {},
   "outputs": [],
   "source": []
  }
 ],
 "metadata": {
  "kernelspec": {
   "display_name": "tfodj",
   "language": "python",
   "name": "tfodj"
  },
  "language_info": {
   "codemirror_mode": {
    "name": "ipython",
    "version": 3
   },
   "file_extension": ".py",
   "mimetype": "text/x-python",
   "name": "python",
   "nbconvert_exporter": "python",
   "pygments_lexer": "ipython3",
   "version": "3.10.9"
  }
 },
 "nbformat": 4,
 "nbformat_minor": 5
}
